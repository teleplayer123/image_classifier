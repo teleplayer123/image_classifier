{
 "cells": [
  {
   "cell_type": "code",
   "execution_count": 1,
   "metadata": {},
   "outputs": [
    {
     "name": "stdout",
     "output_type": "stream",
     "text": [
      "(38, 92)\n"
     ]
    },
    {
     "data": {
      "text/plain": [
       "<matplotlib.image.AxesImage at 0x1dc67112eb0>"
      ]
     },
     "execution_count": 1,
     "metadata": {},
     "output_type": "execute_result"
    },
    {
     "data": {
      "image/png": "[encoded data removed]",
      "text/plain": [
       "<Figure size 640x480 with 1 Axes>"
      ]
     },
     "metadata": {},
     "output_type": "display_data"
    }
   ],
   "source": [
    "import os\n",
    "import cv2\n",
    "import numpy as np\n",
    "import matplotlib.pyplot as plt\n",
    "\n",
    "\n",
    "img_dir = os.path.join(os.getcwd(), \"datasets\", \"images\")\n",
    "img1_path = os.path.join(img_dir, \"image67.png\")\n",
    "\n",
    "img1 = cv2.imread(img1_path, cv2.IMREAD_GRAYSCALE)\n",
    "\n",
    "img1_shape = np.shape(img1)\n",
    "print(img1_shape)\n",
    "plt.imshow(img1)"
   ]
  },
  {
   "cell_type": "code",
   "execution_count": 3,
   "metadata": {},
   "outputs": [
    {
     "data": {
      "text/plain": [
       "<matplotlib.image.AxesImage at 0x1dc67208b50>"
      ]
     },
     "execution_count": 3,
     "metadata": {},
     "output_type": "execute_result"
    },
    {
     "data": {
      "image/png": "[encoded data removed]",
      "text/plain": [
       "<Figure size 640x480 with 1 Axes>"
      ]
     },
     "metadata": {},
     "output_type": "display_data"
    }
   ],
   "source": [
    "new_img1 = img1[:32, 30:62]\n",
    "plt.imshow(new_img1)\n"
   ]
  },
  {
   "cell_type": "code",
   "execution_count": 35,
   "metadata": {},
   "outputs": [],
   "source": [
    "def crop_image(img_path, n):\n",
    "    img = cv2.imread(img_path, cv2.IMREAD_GRAYSCALE)\n",
    "    img = img[:32, 30:62]\n",
    "    outdir = os.path.join(os.getcwd(), \"new_images\")\n",
    "    if not os.path.exists(outdir):\n",
    "        os.mkdir(outdir)\n",
    "    outfile = os.path.join(outdir, \"image{}.png\".format(n))\n",
    "    cv2.imwrite(outfile, img)\n",
    "\n",
    "def crop_img2d(img_path):\n",
    "    img = cv2.imread(img_path, cv2.IMREAD_GRAYSCALE)\n",
    "    img1 = img[:32, 30:46]\n",
    "    img2 = img[:32, 46:62]\n",
    "    # img1 = img[:32, 26:38]\n",
    "    # img2 = img[:32, 40:58]\n",
    "    outdir = os.path.join(os.getcwd(), \"newer_images\")\n",
    "    if not os.path.exists(outdir):\n",
    "        os.mkdir(outdir)\n",
    "    outfile1 = os.path.join(outdir, \"image7_10.png\")\n",
    "    outfile2 = os.path.join(outdir, \"image9_6.png\")\n",
    "    cv2.imwrite(outfile1, img1)\n",
    "    cv2.imwrite(outfile2, img2)\n",
    "\n",
    "def crop_img3d(img_path):\n",
    "    img = cv2.imread(img_path, cv2.IMREAD_GRAYSCALE)\n",
    "    img1 = img[:32, 24:34]\n",
    "    img2 = img[:32, 34:52]\n",
    "    img3 = img[:32, 52:68]\n",
    "    outdir = os.path.join(os.getcwd(), \"newer_images\")\n",
    "    if not os.path.exists(outdir):\n",
    "        os.mkdir(outdir)\n",
    "    outfile1 = os.path.join(outdir, \"image1_8.png\")\n",
    "    outfile2 = os.path.join(outdir, \"image2_6.png\")\n",
    "    outfile3 = os.path.join(outdir, \"image1_9.png\")\n",
    "    cv2.imwrite(outfile1, img1)\n",
    "    cv2.imwrite(outfile2, img2)\n",
    "    cv2.imwrite(outfile3, img3)\n",
    "\n",
    "def crop_images():\n",
    "    img_dir = os.path.join(os.getcwd(), \"datasets\", \"images\")\n",
    "    i = 0\n",
    "    for fname in os.listdir(img_dir):\n",
    "        file_path = os.path.join(img_dir, fname)\n",
    "        crop_image(file_path, i)\n",
    "        i += 1\n",
    "\n",
    "img_path = os.path.join(img_dir, \"image640.png\")\n",
    "crop_img2d(img_path)"
   ]
  },
  {
   "cell_type": "code",
   "execution_count": 1,
   "metadata": {},
   "outputs": [],
   "source": [
    "import os\n",
    "import cv2\n",
    "import numpy as np\n",
    "\n",
    "\n",
    "def zero_pad_img(img):\n",
    "    if np.shape(img) == (32, 16):\n",
    "        padded_img = np.pad(img, ((30, 30), (38, 38)), mode=\"constant\", constant_values=0)\n",
    "    elif np.shape(img) == (44, 92):\n",
    "        padded_img = np.pad(img, ((24, 24), (0, 0)), mode='constant', constant_values=0)\n",
    "    elif np.shape(img) == (32, 10):\n",
    "        padded_img = np.pad(img, ((30, 30), (41, 41)), mode='constant', constant_values=0)\n",
    "    elif np.shape(img) == (32, 18):\n",
    "        padded_img = np.pad(img, ((30, 30), (37, 37)), mode='constant', constant_values=0)\n",
    "    elif np.shape(img) == (32, 12):\n",
    "        padded_img = np.pad(img, ((30, 30), (40, 40)), mode='constant', constant_values=0)\n",
    "    else:\n",
    "        raise ValueError(\"image has unexpexted shape: {}\".format(np.shape(img)))\n",
    "    assert np.shape(padded_img) == (92, 92), \"check zero pad function\"\n",
    "    return padded_img\n",
    "\n",
    "def pad_images():\n",
    "    new_dir = os.path.join(os.getcwd(), \"new_integer_images\")\n",
    "    if not os.path.exists(new_dir):\n",
    "        os.mkdir(new_dir)\n",
    "\n",
    "    imgs_dir = os.path.join(os.getcwd(), \"datasets\", \"integer_images\")\n",
    "    for fname in os.listdir(imgs_dir):\n",
    "        f = os.path.join(imgs_dir, fname)\n",
    "        img = cv2.imread(f, cv2.IMREAD_GRAYSCALE)\n",
    "        if np.shape(img) != (92, 92):\n",
    "            img = zero_pad_img(img)\n",
    "        save_path = os.path.join(new_dir, fname)\n",
    "        cv2.imwrite(save_path, img)\n",
    "\n",
    "pad_images()\n"
   ]
  },
  {
   "cell_type": "code",
   "execution_count": 1,
   "metadata": {},
   "outputs": [
    {
     "name": "stdout",
     "output_type": "stream",
     "text": [
      "66\n"
     ]
    }
   ],
   "source": [
    "import os\n",
    "import cv2\n",
    "import numpy as np\n",
    "import matplotlib.pyplot as plt\n",
    "\n",
    "def resize_images():\n",
    "    imgs_dir = os.path.join(os.getcwd(), \"integer_image_dataset\")\n",
    "    outdir = os.path.join(os.getcwd(), \"integer_images_dataset_small\")\n",
    "    if not os.path.exists(outdir):\n",
    "        os.mkdir(outdir)\n",
    "    for fname in os.listdir(imgs_dir):\n",
    "        f = os.path.join(imgs_dir, fname)\n",
    "        img = cv2.imread(f, cv2.IMREAD_GRAYSCALE)\n",
    "        img = cv2.resize(img, (38, 38))\n",
    "        outfile = os.path.join(outdir, fname)\n",
    "        cv2.imwrite(outfile, img)\n",
    "\n",
    "imgs_dir = os.path.join(os.getcwd(), \"digit_images_dataset\")\n",
    "print(len(os.listdir(imgs_dir)))"
   ]
  },
  {
   "cell_type": "code",
   "execution_count": 2,
   "metadata": {},
   "outputs": [
    {
     "name": "stdout",
     "output_type": "stream",
     "text": [
      "['__call__', '__class__', '__delattr__', '__dict__', '__dir__', '__doc__', '__eq__', '__format__', '__ge__', '__getattribute__', '__gt__', '__hash__', '__init__', '__init_subclass__', '__le__', '__lt__', '__module__', '__ne__', '__new__', '__reduce__', '__reduce_ex__', '__repr__', '__setattr__', '__sizeof__', '__str__', '__subclasshook__', '__weakref__', '_add_trackable_child', '_add_variable_with_custom_getter', '_checkpoint_dependencies', '_default_save_signature', '_deferred_dependencies', '_delete_tracking', '_deserialization_dependencies', '_deserialize_from_proto', '_export_to_saved_model_graph', '_gather_saveables_for_checkpoint', '_handle_deferred_dependencies', '_lookup_dependency', '_maybe_initialize_trackable', '_name_based_attribute_restore', '_name_based_restores', '_no_dependency', '_object_identifier', '_preload_simple_restoration', '_restore_from_tensors', '_self_name_based_restores', '_self_saveable_object_factories', '_self_setattr_tracking', '_self_unconditional_checkpoint_dependencies', '_self_unconditional_deferred_dependencies', '_self_unconditional_dependency_names', '_self_update_uid', '_serialize_to_proto', '_serialize_to_tensors', '_setattr_tracking', '_tf_api_names', '_tf_api_names_v1', '_track_trackable', '_trackable_children', '_unconditional_checkpoint_dependencies', '_unconditional_dependency_names', '_update_uid', 'call_and_return_all_conditional_losses', 'graph_debug_info', 'keras_api', 'layer-0', 'layer-1', 'layer-2', 'layer-3', 'layer-4', 'layer-5', 'layer-6', 'layer-7', 'layer_with_weights-0', 'layer_with_weights-1', 'layer_with_weights-2', 'layer_with_weights-3', 'layer_with_weights-4', 'optimizer', 'regularization_losses', 'signatures', 'tensorflow_git_version', 'tensorflow_version', 'trainable_variables', 'variables']\n"
     ]
    }
   ],
   "source": [
    "import tensorflow as tf\n",
    "import os\n",
    "\n",
    "\n",
    "saved_model_dir = os.path.join(os.getcwd(), \"models\", \"saved_models\")\n",
    "\n",
    "model = tf.saved_model.load(saved_model_dir)\n",
    "print(dir(model))"
   ]
  },
  {
   "cell_type": "code",
   "execution_count": 2,
   "metadata": {},
   "outputs": [
    {
     "name": "stdout",
     "output_type": "stream",
     "text": [
      "Found 70 files belonging to 10 classes.\n",
      "Using 56 files for training.\n"
     ]
    }
   ],
   "source": [
    "import tensorflow as tf\n",
    "import os\n",
    "\n",
    "\n",
    "data_dir = os.path.join(os.getcwd(), \"digit_images_dataset\")\n",
    "\n",
    "\n",
    "\n",
    "train_ds = tf.keras.utils.image_dataset_from_directory(\n",
    "  data_dir,\n",
    "  validation_split=0.2,\n",
    "  subset=\"training\",\n",
    "  seed=123,\n",
    "  image_size=(92, 92),\n",
    "  batch_size=32)\n",
    "\n"
   ]
  },
  {
   "cell_type": "code",
   "execution_count": 8,
   "metadata": {},
   "outputs": [
    {
     "name": "stdout",
     "output_type": "stream",
     "text": [
      "Found 70 files belonging to 10 classes.\n",
      "Using 14 files for validation.\n"
     ]
    }
   ],
   "source": [
    "val_ds = tf.keras.utils.image_dataset_from_directory(\n",
    "  data_dir,\n",
    "  validation_split=0.2,\n",
    "  subset=\"validation\",\n",
    "  seed=123,\n",
    "  image_size=(92, 92),\n",
    "  batch_size=32)"
   ]
  },
  {
   "cell_type": "code",
   "execution_count": 20,
   "metadata": {},
   "outputs": [],
   "source": [
    "def build_model(input_shape, n_outputs):\n",
    "   model = tf.keras.models.Sequential()\n",
    "   model.add(tf.keras.layers.Input((input_shape[0], input_shape[1], 3)))\n",
    "   model.add(tf.keras.layers.Conv2D(32, (3, 3), activation=\"relu\"))\n",
    "   model.add(tf.keras.layers.MaxPool2D((2, 2)))\n",
    "   model.add(tf.keras.layers.Conv2D(64, (3, 3), activation=\"relu\"))\n",
    "   model.add(tf.keras.layers.MaxPool2D((2, 2)))\n",
    "   model.add(tf.keras.layers.Conv2D(64, (3, 3), activation=\"relu\"))\n",
    "   model.add(tf.keras.layers.Flatten())\n",
    "   model.add(tf.keras.layers.Dense(128, activation=\"relu\"))\n",
    "   model.add(tf.keras.layers.Dense(n_outputs))\n",
    "   model.compile(optimizer=\"adam\",\n",
    "                 loss=tf.keras.losses.SparseCategoricalCrossentropy(from_logits=True),\n",
    "                 metrics=[\"accuracy\"])\n",
    "   return model\n",
    "\n",
    "def convert_model_to_tflite(model):\n",
    "  file_path = os.path.join(os.getcwd(), \"models\", \"model.tflite\")\n",
    "  converter = tf.lite.TFLiteConverter.from_keras_model(model)\n",
    "  tflite_model = converter.convert()\n",
    "  with open(file_path, \"wb\") as fh:\n",
    "    fh.write(tflite_model)\n",
    "\n",
    "def save_tf_model(model):\n",
    "  model_dir = os.path.join(os.getcwd(), \"models\")\n",
    "  if not os.path.exists(model_dir):\n",
    "      os.mkdir(model_dir)\n",
    "  save_dir = os.path.join(model_dir, \"saved_models\")\n",
    "  if not os.path.exists(save_dir):\n",
    "      os.mkdir(save_dir)\n",
    "  tf.saved_model.save(model, save_dir)\n",
    "\n",
    "def convert_tflite_int8(saved_model_dir, input_shape=(92, 92), n_outputs=130):\n",
    "  def representative_dataset():\n",
    "    for _ in range(n_outputs):\n",
    "      data = np.random.rand(1, input_shape[0], input_shape[1], 1)\n",
    "      yield [data.astype(np.float32)]\n",
    "      \n",
    "  file_path = os.path.join(os.getcwd(), \"models\", \"model.tflite\")\n",
    "  converter = tf.lite.TFLiteConverter.from_saved_model(saved_model_dir)\n",
    "  converter.optimizations = [tf.lite.Optimize.DEFAULT]\n",
    "  converter.representative_dataset = representative_dataset\n",
    "  converter.target_spec.supported_ops = [tf.lite.OpsSet.TFLITE_BUILTINS_INT8]\n",
    "  converter.inference_input_type = tf.uint8\n",
    "  converter.inference_output_type = tf.uint8\n",
    "  tflite_quant_model = converter.convert()\n",
    "  with open(file_path, \"wb\") as fh:\n",
    "    fh.write(tflite_quant_model)"
   ]
  },
  {
   "cell_type": "code",
   "execution_count": 7,
   "metadata": {},
   "outputs": [
    {
     "data": {
      "text/plain": [
       "['0_zero',\n",
       " '1_one',\n",
       " '2_two',\n",
       " '3_three',\n",
       " '4_four',\n",
       " '5_five',\n",
       " '6_six',\n",
       " '7_seven',\n",
       " '8_eight',\n",
       " '9_nine']"
      ]
     },
     "execution_count": 7,
     "metadata": {},
     "output_type": "execute_result"
    }
   ],
   "source": [
    "class_names = train_ds.class_names\n",
    "class_names"
   ]
  },
  {
   "cell_type": "code",
   "execution_count": 16,
   "metadata": {},
   "outputs": [
    {
     "data": {
      "text/plain": [
       "<_ShuffleDataset element_spec=TensorSpec(shape=(), dtype=tf.string, name=None)>"
      ]
     },
     "execution_count": 16,
     "metadata": {},
     "output_type": "execute_result"
    }
   ],
   "source": [
    "AUTOTUNE = tf.data.AUTOTUNE\n",
    "\n",
    "train_ds = train_ds.cache().shuffle(1000).prefetch(buffer_size=AUTOTUNE)\n",
    "val_ds = val_ds.cache().prefetch(buffer_size=AUTOTUNE)"
   ]
  },
  {
   "cell_type": "code",
   "execution_count": 18,
   "metadata": {},
   "outputs": [
    {
     "name": "stdout",
     "output_type": "stream",
     "text": [
      "0.0 0.9843138\n",
      "(92, 92, 3)\n"
     ]
    },
    {
     "data": {
      "text/plain": [
       "<matplotlib.image.AxesImage at 0x275d94ae0d0>"
      ]
     },
     "execution_count": 18,
     "metadata": {},
     "output_type": "execute_result"
    },
    {
     "data": {
      "image/png": "[encoded data removed]",
      "text/plain": [
       "<Figure size 640x480 with 1 Axes>"
      ]
     },
     "metadata": {},
     "output_type": "display_data"
    }
   ],
   "source": [
    "import numpy as np\n",
    "import matplotlib.pyplot as plt\n",
    "\n",
    "normalization_layer = tf.keras.layers.Rescaling(1./255)\n",
    "normalized_ds = train_ds.map(lambda x, y: (normalization_layer(x), y))\n",
    "image_batch, labels_batch = next(iter(normalized_ds))\n",
    "first_image = image_batch[0]\n",
    "# Notice the pixel values are now in `[0,1]`.\n",
    "print(np.min(first_image), np.max(first_image))\n",
    "print(np.shape(first_image))\n",
    "plt.imshow(first_image)"
   ]
  },
  {
   "cell_type": "code",
   "execution_count": 23,
   "metadata": {},
   "outputs": [
    {
     "name": "stdout",
     "output_type": "stream",
     "text": [
      "Epoch 1/20\n",
      "2/2 [==============================] - 1s 289ms/step - loss: 25.8146 - accuracy: 0.1250 - val_loss: 36.1073 - val_accuracy: 0.0714\n",
      "Epoch 2/20\n",
      "2/2 [==============================] - 0s 189ms/step - loss: 19.9031 - accuracy: 0.2679 - val_loss: 14.4437 - val_accuracy: 0.0000e+00\n",
      "Epoch 3/20\n",
      "2/2 [==============================] - 0s 187ms/step - loss: 7.7059 - accuracy: 0.3750 - val_loss: 5.1099 - val_accuracy: 0.5000\n",
      "Epoch 4/20\n",
      "2/2 [==============================] - 0s 182ms/step - loss: 3.0064 - accuracy: 0.4643 - val_loss: 2.4030 - val_accuracy: 0.2857\n",
      "Epoch 5/20\n",
      "2/2 [==============================] - 0s 152ms/step - loss: 1.6431 - accuracy: 0.5536 - val_loss: 2.0692 - val_accuracy: 0.5000\n",
      "Epoch 6/20\n",
      "2/2 [==============================] - 0s 179ms/step - loss: 1.4908 - accuracy: 0.5000 - val_loss: 1.6177 - val_accuracy: 0.4286\n",
      "Epoch 7/20\n",
      "2/2 [==============================] - 0s 176ms/step - loss: 0.9745 - accuracy: 0.7679 - val_loss: 1.0327 - val_accuracy: 0.9286\n",
      "Epoch 8/20\n",
      "2/2 [==============================] - 0s 148ms/step - loss: 0.7302 - accuracy: 0.8393 - val_loss: 1.1642 - val_accuracy: 0.4286\n",
      "Epoch 9/20\n",
      "2/2 [==============================] - 0s 174ms/step - loss: 0.5271 - accuracy: 0.8214 - val_loss: 0.5587 - val_accuracy: 0.7143\n",
      "Epoch 10/20\n",
      "2/2 [==============================] - 0s 147ms/step - loss: 0.3626 - accuracy: 0.8036 - val_loss: 0.3332 - val_accuracy: 1.0000\n",
      "Epoch 11/20\n",
      "2/2 [==============================] - 0s 172ms/step - loss: 0.2179 - accuracy: 0.9286 - val_loss: 0.6553 - val_accuracy: 0.7857\n",
      "Epoch 12/20\n",
      "2/2 [==============================] - 0s 174ms/step - loss: 0.1707 - accuracy: 0.9821 - val_loss: 0.1186 - val_accuracy: 0.9286\n",
      "Epoch 13/20\n",
      "2/2 [==============================] - 0s 173ms/step - loss: 0.0808 - accuracy: 1.0000 - val_loss: 0.0364 - val_accuracy: 1.0000\n",
      "Epoch 14/20\n",
      "2/2 [==============================] - 0s 155ms/step - loss: 0.0491 - accuracy: 1.0000 - val_loss: 0.0243 - val_accuracy: 1.0000\n",
      "Epoch 15/20\n",
      "2/2 [==============================] - 0s 183ms/step - loss: 0.0218 - accuracy: 1.0000 - val_loss: 0.0541 - val_accuracy: 1.0000\n",
      "Epoch 16/20\n",
      "2/2 [==============================] - 0s 178ms/step - loss: 0.0185 - accuracy: 1.0000 - val_loss: 0.0416 - val_accuracy: 1.0000\n",
      "Epoch 17/20\n",
      "2/2 [==============================] - 0s 176ms/step - loss: 0.0124 - accuracy: 1.0000 - val_loss: 0.0149 - val_accuracy: 1.0000\n",
      "Epoch 18/20\n",
      "2/2 [==============================] - 0s 162ms/step - loss: 0.0055 - accuracy: 1.0000 - val_loss: 0.0047 - val_accuracy: 1.0000\n",
      "Epoch 19/20\n",
      "2/2 [==============================] - 0s 160ms/step - loss: 0.0030 - accuracy: 1.0000 - val_loss: 0.0037 - val_accuracy: 1.0000\n",
      "Epoch 20/20\n",
      "2/2 [==============================] - 0s 156ms/step - loss: 0.0035 - accuracy: 1.0000 - val_loss: 0.0034 - val_accuracy: 1.0000\n",
      "Score Averages\n",
      "--------------------\n",
      "Accuracy: 0.7714285686612129\n",
      "Loss: 3.137067698664032\n",
      "Val Accuracy: 0.7285714272409678\n",
      "Val Loss: 3.2898192131193356\n",
      "\n",
      "Scores\n",
      "-------------------------\n",
      "Accuracy: 1.0\n",
      "Loss: 0.003497200319543481\n",
      "Val Accuracy: 1.0\n",
      "Val Loss: 0.0033543070312589407\n"
     ]
    }
   ],
   "source": [
    "model = build_model((92, 92), 10)\n",
    "history = model.fit(train_ds, validation_data=val_ds, epochs=20)\n",
    "\n",
    "acc = history.history[\"accuracy\"]\n",
    "val_acc = history.history[\"val_accuracy\"]\n",
    "loss = history.history[\"loss\"]\n",
    "val_loss = history.history[\"val_loss\"]\n",
    "\n",
    "print(\"Score Averages\\n--------------------\")\n",
    "print(f\"Accuracy: {np.average(acc)}\")\n",
    "print(f\"Loss: {np.average(loss)}\")\n",
    "print(f\"Val Accuracy: {np.average(val_acc)}\")\n",
    "print(f\"Val Loss: {np.average(val_loss)}\")\n",
    "print(\"\\nScores\\n-------------------------\")\n",
    "print(f\"Accuracy: {acc[-1]}\")\n",
    "print(f\"Loss: {loss[-1]}\")\n",
    "print(f\"Val Accuracy: {val_acc[-1]}\")\n",
    "print(f\"Val Loss: {val_loss[-1]}\")\n",
    "\n"
   ]
  },
  {
   "cell_type": "code",
   "execution_count": 24,
   "metadata": {},
   "outputs": [
    {
     "name": "stdout",
     "output_type": "stream",
     "text": [
      "1/1 [==============================] - 0s 149ms/step\n",
      "This image most likely belongs to 5_five with a 98.76 percent confidence.\n"
     ]
    }
   ],
   "source": [
    "digit_path = os.path.join(os.getcwd(), \"digit_images_dataset\", \"5_five\", \"image5_0.png\")\n",
    "\n",
    "img = tf.keras.utils.load_img(digit_path, target_size=(92, 92))\n",
    "img_array = tf.keras.utils.img_to_array(img)\n",
    "img_array = tf.expand_dims(img_array, 0) # Create a batch\n",
    "\n",
    "predictions = model.predict(img_array)\n",
    "score = tf.nn.softmax(predictions[0])\n",
    "\n",
    "print(\n",
    "    \"This image most likely belongs to {} with a {:.2f} percent confidence.\"\n",
    "    .format(class_names[np.argmax(score)], 100 * np.max(score))\n",
    ")"
   ]
  },
  {
   "cell_type": "code",
   "execution_count": null,
   "metadata": {},
   "outputs": [],
   "source": [
    "# Convert the model.\n",
    "converter = tf.lite.TFLiteConverter.from_keras_model(model)\n",
    "tflite_model = converter.convert()\n",
    "\n",
    "# Save the model.\n",
    "with open('model.tflite', 'wb') as f:\n",
    "  f.write(tflite_model)"
   ]
  },
  {
   "cell_type": "code",
   "execution_count": null,
   "metadata": {},
   "outputs": [],
   "source": [
    "TF_MODEL_FILE_PATH = 'model.tflite' # The default path to the saved TensorFlow Lite model\n",
    "\n",
    "interpreter = tf.lite.Interpreter(model_path=TF_MODEL_FILE_PATH)"
   ]
  },
  {
   "cell_type": "code",
   "execution_count": null,
   "metadata": {},
   "outputs": [],
   "source": [
    "interpreter.get_signature_list()"
   ]
  },
  {
   "cell_type": "code",
   "execution_count": null,
   "metadata": {},
   "outputs": [],
   "source": [
    "classify_lite = interpreter.get_signature_runner('serving_default')\n",
    "classify_lite"
   ]
  },
  {
   "cell_type": "code",
   "execution_count": null,
   "metadata": {},
   "outputs": [],
   "source": [
    "predictions_lite = classify_lite(sequential_1_input=img_array)['outputs']\n",
    "score_lite = tf.nn.softmax(predictions_lite)"
   ]
  },
  {
   "cell_type": "code",
   "execution_count": null,
   "metadata": {},
   "outputs": [],
   "source": [
    "print(\n",
    "    \"This image most likely belongs to {} with a {:.2f} percent confidence.\"\n",
    "    .format(class_names[np.argmax(score_lite)], 100 * np.max(score_lite))\n",
    ")"
   ]
  },
  {
   "cell_type": "code",
   "execution_count": null,
   "metadata": {},
   "outputs": [],
   "source": [
    "print(np.max(np.abs(predictions - predictions_lite)))"
   ]
  }
 ],
 "metadata": {
  "kernelspec": {
   "display_name": "venv",
   "language": "python",
   "name": "python3"
  },
  "language_info": {
   "codemirror_mode": {
    "name": "ipython",
    "version": 3
   },
   "file_extension": ".py",
   "mimetype": "text/x-python",
   "name": "python",
   "nbconvert_exporter": "python",
   "pygments_lexer": "ipython3",
   "version": "3.8.3"
  }
 },
 "nbformat": 4,
 "nbformat_minor": 2
}
