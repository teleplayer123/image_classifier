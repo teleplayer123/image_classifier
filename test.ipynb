{
 "cells": [
  {
   "cell_type": "code",
   "execution_count": 1,
   "metadata": {},
   "outputs": [
    {
     "name": "stdout",
     "output_type": "stream",
     "text": [
      "(38, 92)\n"
     ]
    },
    {
     "data": {
      "text/plain": [
       "<matplotlib.image.AxesImage at 0x1dc67112eb0>"
      ]
     },
     "execution_count": 1,
     "metadata": {},
     "output_type": "execute_result"
    },
    {
     "data": {
      "image/png": "[encoded data removed]",
      "text/plain": [
       "<Figure size 640x480 with 1 Axes>"
      ]
     },
     "metadata": {},
     "output_type": "display_data"
    }
   ],
   "source": [
    "import os\n",
    "import cv2\n",
    "import numpy as np\n",
    "import matplotlib.pyplot as plt\n",
    "\n",
    "\n",
    "img_dir = os.path.join(os.getcwd(), \"datasets\", \"images\")\n",
    "img1_path = os.path.join(img_dir, \"image67.png\")\n",
    "\n",
    "img1 = cv2.imread(img1_path, cv2.IMREAD_GRAYSCALE)\n",
    "\n",
    "img1_shape = np.shape(img1)\n",
    "print(img1_shape)\n",
    "plt.imshow(img1)"
   ]
  },
  {
   "cell_type": "code",
   "execution_count": 3,
   "metadata": {},
   "outputs": [
    {
     "data": {
      "text/plain": [
       "<matplotlib.image.AxesImage at 0x1dc67208b50>"
      ]
     },
     "execution_count": 3,
     "metadata": {},
     "output_type": "execute_result"
    },
    {
     "data": {
      "image/png": "[encoded data removed]",
      "text/plain": [
       "<Figure size 640x480 with 1 Axes>"
      ]
     },
     "metadata": {},
     "output_type": "display_data"
    }
   ],
   "source": [
    "new_img1 = img1[:32, 30:62]\n",
    "plt.imshow(new_img1)\n"
   ]
  },
  {
   "cell_type": "code",
   "execution_count": 35,
   "metadata": {},
   "outputs": [],
   "source": [
    "def crop_image(img_path, n):\n",
    "    img = cv2.imread(img_path, cv2.IMREAD_GRAYSCALE)\n",
    "    img = img[:32, 30:62]\n",
    "    outdir = os.path.join(os.getcwd(), \"new_images\")\n",
    "    if not os.path.exists(outdir):\n",
    "        os.mkdir(outdir)\n",
    "    outfile = os.path.join(outdir, \"image{}.png\".format(n))\n",
    "    cv2.imwrite(outfile, img)\n",
    "\n",
    "def crop_img2d(img_path):\n",
    "    img = cv2.imread(img_path, cv2.IMREAD_GRAYSCALE)\n",
    "    img1 = img[:32, 30:46]\n",
    "    img2 = img[:32, 46:62]\n",
    "    # img1 = img[:32, 26:38]\n",
    "    # img2 = img[:32, 40:58]\n",
    "    outdir = os.path.join(os.getcwd(), \"newer_images\")\n",
    "    if not os.path.exists(outdir):\n",
    "        os.mkdir(outdir)\n",
    "    outfile1 = os.path.join(outdir, \"image7_10.png\")\n",
    "    outfile2 = os.path.join(outdir, \"image9_6.png\")\n",
    "    cv2.imwrite(outfile1, img1)\n",
    "    cv2.imwrite(outfile2, img2)\n",
    "\n",
    "def crop_img3d(img_path):\n",
    "    img = cv2.imread(img_path, cv2.IMREAD_GRAYSCALE)\n",
    "    img1 = img[:32, 24:34]\n",
    "    img2 = img[:32, 34:52]\n",
    "    img3 = img[:32, 52:68]\n",
    "    outdir = os.path.join(os.getcwd(), \"newer_images\")\n",
    "    if not os.path.exists(outdir):\n",
    "        os.mkdir(outdir)\n",
    "    outfile1 = os.path.join(outdir, \"image1_8.png\")\n",
    "    outfile2 = os.path.join(outdir, \"image2_6.png\")\n",
    "    outfile3 = os.path.join(outdir, \"image1_9.png\")\n",
    "    cv2.imwrite(outfile1, img1)\n",
    "    cv2.imwrite(outfile2, img2)\n",
    "    cv2.imwrite(outfile3, img3)\n",
    "\n",
    "def crop_images():\n",
    "    img_dir = os.path.join(os.getcwd(), \"datasets\", \"images\")\n",
    "    i = 0\n",
    "    for fname in os.listdir(img_dir):\n",
    "        file_path = os.path.join(img_dir, fname)\n",
    "        crop_image(file_path, i)\n",
    "        i += 1\n",
    "\n",
    "img_path = os.path.join(img_dir, \"image640.png\")\n",
    "crop_img2d(img_path)"
   ]
  },
  {
   "cell_type": "code",
   "execution_count": 57,
   "metadata": {},
   "outputs": [],
   "source": [
    "import os\n",
    "import cv2\n",
    "import numpy as np\n",
    "\n",
    "\n",
    "def zero_pad_img(img):\n",
    "    if np.shape(img) == (32, 16):\n",
    "        padded_img = np.pad(img, ((30, 30), (38, 38)), mode=\"constant\", constant_values=0)\n",
    "    elif np.shape(img) == (44, 92):\n",
    "        padded_img = np.pad(img, ((24, 24), (0, 0)), mode='constant', constant_values=0)\n",
    "    elif np.shape(img) == (32, 10):\n",
    "        padded_img = np.pad(img, ((30, 30), (41, 41)), mode='constant', constant_values=0)\n",
    "    elif np.shape(img) == (32, 18):\n",
    "        padded_img = np.pad(img, ((30, 30), (37, 37)), mode='constant', constant_values=0)\n",
    "    elif np.shape(img) == (32, 12):\n",
    "        padded_img = np.pad(img, ((30, 30), (40, 40)), mode='constant', constant_values=0)\n",
    "    else:\n",
    "        raise ValueError(\"image has unexpexted shape: {}\".format(np.shape(img)))\n",
    "    assert np.shape(padded_img) == (92, 92), \"check zero pad function\"\n",
    "    return padded_img\n",
    "\n",
    "def pad_images():\n",
    "    new_dir = os.path.join(os.getcwd(), \"new_integer_images\")\n",
    "    if not os.path.exists(new_dir):\n",
    "        os.mkdir(new_dir)\n",
    "\n",
    "    imgs_dir = os.path.join(os.getcwd(), \"integer_images\")\n",
    "    for fname in os.listdir(imgs_dir):\n",
    "        f = os.path.join(imgs_dir, fname)\n",
    "        img = cv2.imread(f, cv2.IMREAD_GRAYSCALE)\n",
    "        if np.shape(img) != (92, 92):\n",
    "            img = zero_pad_img(img)\n",
    "        save_path = os.path.join(new_dir, fname)\n",
    "        cv2.imwrite(save_path, img)\n",
    "\n",
    "pad_images()\n"
   ]
  },
  {
   "cell_type": "code",
   "execution_count": 1,
   "metadata": {},
   "outputs": [
    {
     "name": "stdout",
     "output_type": "stream",
     "text": [
      "66\n"
     ]
    }
   ],
   "source": [
    "import os\n",
    "import cv2\n",
    "import numpy as np\n",
    "import matplotlib.pyplot as plt\n",
    "\n",
    "def resize_images():\n",
    "    imgs_dir = os.path.join(os.getcwd(), \"integer_image_dataset\")\n",
    "    outdir = os.path.join(os.getcwd(), \"integer_images_dataset_small\")\n",
    "    if not os.path.exists(outdir):\n",
    "        os.mkdir(outdir)\n",
    "    for fname in os.listdir(imgs_dir):\n",
    "        f = os.path.join(imgs_dir, fname)\n",
    "        img = cv2.imread(f, cv2.IMREAD_GRAYSCALE)\n",
    "        img = cv2.resize(img, (38, 38))\n",
    "        outfile = os.path.join(outdir, fname)\n",
    "        cv2.imwrite(outfile, img)\n",
    "\n",
    "imgs_dir = os.path.join(os.getcwd(), \"digit_images_dataset\")\n",
    "print(len(os.listdir(imgs_dir)))"
   ]
  },
  {
   "cell_type": "code",
   "execution_count": 2,
   "metadata": {},
   "outputs": [
    {
     "name": "stdout",
     "output_type": "stream",
     "text": [
      "['__call__', '__class__', '__delattr__', '__dict__', '__dir__', '__doc__', '__eq__', '__format__', '__ge__', '__getattribute__', '__gt__', '__hash__', '__init__', '__init_subclass__', '__le__', '__lt__', '__module__', '__ne__', '__new__', '__reduce__', '__reduce_ex__', '__repr__', '__setattr__', '__sizeof__', '__str__', '__subclasshook__', '__weakref__', '_add_trackable_child', '_add_variable_with_custom_getter', '_checkpoint_dependencies', '_default_save_signature', '_deferred_dependencies', '_delete_tracking', '_deserialization_dependencies', '_deserialize_from_proto', '_export_to_saved_model_graph', '_gather_saveables_for_checkpoint', '_handle_deferred_dependencies', '_lookup_dependency', '_maybe_initialize_trackable', '_name_based_attribute_restore', '_name_based_restores', '_no_dependency', '_object_identifier', '_preload_simple_restoration', '_restore_from_tensors', '_self_name_based_restores', '_self_saveable_object_factories', '_self_setattr_tracking', '_self_unconditional_checkpoint_dependencies', '_self_unconditional_deferred_dependencies', '_self_unconditional_dependency_names', '_self_update_uid', '_serialize_to_proto', '_serialize_to_tensors', '_setattr_tracking', '_tf_api_names', '_tf_api_names_v1', '_track_trackable', '_trackable_children', '_unconditional_checkpoint_dependencies', '_unconditional_dependency_names', '_update_uid', 'call_and_return_all_conditional_losses', 'graph_debug_info', 'keras_api', 'layer-0', 'layer-1', 'layer-2', 'layer-3', 'layer-4', 'layer-5', 'layer-6', 'layer-7', 'layer_with_weights-0', 'layer_with_weights-1', 'layer_with_weights-2', 'layer_with_weights-3', 'layer_with_weights-4', 'optimizer', 'regularization_losses', 'signatures', 'tensorflow_git_version', 'tensorflow_version', 'trainable_variables', 'variables']\n"
     ]
    }
   ],
   "source": [
    "import tensorflow as tf\n",
    "import os\n",
    "\n",
    "\n",
    "saved_model_dir = os.path.join(os.getcwd(), \"models\", \"saved_models\")\n",
    "\n",
    "model = tf.saved_model.load(saved_model_dir)\n",
    "print(dir(model))"
   ]
  },
  {
   "cell_type": "code",
   "execution_count": 2,
   "metadata": {},
   "outputs": [
    {
     "name": "stdout",
     "output_type": "stream",
     "text": [
      "Found 70 files belonging to 10 classes.\n",
      "Using 56 files for training.\n"
     ]
    }
   ],
   "source": [
    "import tensorflow as tf\n",
    "import os\n",
    "\n",
    "\n",
    "data_dir = os.path.join(os.getcwd(), \"digit_images_dataset\")\n",
    "\n",
    "\n",
    "\n",
    "train_ds = tf.keras.utils.image_dataset_from_directory(\n",
    "  data_dir,\n",
    "  validation_split=0.2,\n",
    "  subset=\"training\",\n",
    "  seed=123,\n",
    "  image_size=(92, 92),\n",
    "  batch_size=32)\n",
    "\n"
   ]
  },
  {
   "cell_type": "code",
   "execution_count": 4,
   "metadata": {},
   "outputs": [
    {
     "name": "stdout",
     "output_type": "stream",
     "text": [
      "Found 70 files belonging to 10 classes.\n"
     ]
    },
    {
     "name": "stdout",
     "output_type": "stream",
     "text": [
      "Using 14 files for validation.\n"
     ]
    }
   ],
   "source": [
    "test_ds = tf.keras.utils.image_dataset_from_directory(\n",
    "  data_dir,\n",
    "  validation_split=0.2,\n",
    "  subset=\"validation\",\n",
    "  seed=123,\n",
    "  image_size=(92, 92),\n",
    "  batch_size=32)"
   ]
  }
 ],
 "metadata": {
  "kernelspec": {
   "display_name": "venv",
   "language": "python",
   "name": "python3"
  },
  "language_info": {
   "codemirror_mode": {
    "name": "ipython",
    "version": 3
   },
   "file_extension": ".py",
   "mimetype": "text/x-python",
   "name": "python",
   "nbconvert_exporter": "python",
   "pygments_lexer": "ipython3",
   "version": "3.8.3"
  }
 },
 "nbformat": 4,
 "nbformat_minor": 2
}
