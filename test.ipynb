{
 "cells": [
  {
   "cell_type": "code",
   "execution_count": 1,
   "metadata": {},
   "outputs": [],
   "source": [
    "# from pycoral.adapters import classify, common\n",
    "# from pycoral.utils.edgetpu import make_interpreter\n",
    "# import platform\n",
    "# import tflite_runtime.interpreter as tflite\n",
    "\n",
    "# _EDGETPU_SHARED_LIB = {\n",
    "#   'Linux': 'libedgetpu.so.1',\n",
    "#   'Darwin': 'libedgetpu.1.dylib',\n",
    "#   'Windows': 'edgetpu.dll'\n",
    "# }[platform.system()]\n",
    "\n",
    "# print(_EDGETPU_SHARED_LIB)\n",
    "\n",
    "# interp = tflite.load_delegate(_EDGETPU_SHARED_LIB)\n",
    "\n",
    "# print(help(interp))"
   ]
  },
  {
   "cell_type": "code",
   "execution_count": null,
   "metadata": {},
   "outputs": [],
   "source": [
    "# from sklearn.datasets import fetch_openml\n",
    "# from sklearn.linear_model import SGDClassifier\n",
    "# from sklearn.model_selection import cross_val_score\n",
    "# import pandas as pd\n",
    "# import os\n",
    "\n",
    "\n",
    "# def get_mnist784_dataset():\n",
    "#     data_dir = os.path.join(os.getcwd(), \"datasets\")\n",
    "#     if not os.path.exists(data_dir):\n",
    "#         os.mkdir(data_dir)\n",
    "#     mnist_dir =  os.path.join(os.getcwd(), \"datasets\", \"mnist_784\")\n",
    "#     if not os.path.exists(mnist_dir):\n",
    "#         os.mkdir(mnist_dir)\n",
    "\n",
    "#     mnist = fetch_openml('mnist_784', as_frame=False)\n",
    "#     data_df = pd.DataFrame(mnist.data, columns=mnist.feature_names)\n",
    "#     target_df = pd.DataFrame(mnist.target, columns=mnist.target_names)\n",
    "#     data_path = os.path.join(os.getcwd(), \"datasets\", \"mnist_784\", \"mnist_784_data.csv\")\n",
    "#     target_path = os.path.join(os.getcwd(), \"datasets\", \"mnist_784\", \"mnist_784_target.csv\")\n",
    "#     data_df.to_csv(data_path)\n",
    "#     target_df.to_csv(target_path)\n",
    "#     X, y = mnist.data, mnist.target\n",
    "#     return X, y\n",
    "\n",
    "# def mnist784_df_from_csv():\n",
    "#     data_path = os.path.join(os.getcwd(), \"datasets\", \"mnist_784\", \"mnist_784_data.csv\")\n",
    "#     target_path = os.path.join(os.getcwd(), \"datasets\", \"mnist_784\", \"mnist_784_target.csv\")\n",
    "#     data_df = pd.read_csv(data_path)\n",
    "#     target_df = pd.read_csv(target_path)\n",
    "#     X_df, y_df = data_df, target_df\n",
    "#     X_df.drop(columns=\"Unnamed: 0\", inplace=True)\n",
    "#     y_df.drop(columns=\"Unnamed: 0\", inplace=True)\n",
    "#     return X_df, y_df\n",
    "\n",
    "# def train_predict_mnist784():\n",
    "#     X_df, y_df = mnist784_df_from_csv()\n",
    "#     X = X_df.values\n",
    "#     y = y_df.values\n",
    "#     some_digit = X[0]\n",
    "#     X_train, X_test, y_train, y_test = X[:60000], X[60000:], y[:60000], y[60000:]\n",
    "#     y_train_5 = (y_train == 5)\n",
    "#     y_test_5 = (y_test == 5)\n",
    "#     sgd_clf = SGDClassifier(random_state=42)\n",
    "#     sgd_clf.fit(X_train, y_train_5)\n",
    "#     sgd_clf.predict([some_digit])\n",
    "#     scores = cross_val_score(sgd_clf, X_train, y_train_5, cv=3, scoring=\"accuracy\")\n",
    "#     return scores\n",
    "\n",
    "# res = train_predict_mnist784()\n",
    "# print(res)"
   ]
  },
  {
   "cell_type": "code",
   "execution_count": null,
   "metadata": {},
   "outputs": [],
   "source": [
    "import tensorflow as tf\n",
    "import os\n",
    "\n",
    "\n"
   ]
  }
 ],
 "metadata": {
  "kernelspec": {
   "display_name": "venv",
   "language": "python",
   "name": "python3"
  },
  "language_info": {
   "codemirror_mode": {
    "name": "ipython",
    "version": 3
   },
   "file_extension": ".py",
   "mimetype": "text/x-python",
   "name": "python",
   "nbconvert_exporter": "python",
   "pygments_lexer": "ipython3",
   "version": "3.8.3"
  }
 },
 "nbformat": 4,
 "nbformat_minor": 2
}
