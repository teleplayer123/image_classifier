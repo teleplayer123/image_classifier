{
 "cells": [
  {
   "cell_type": "code",
   "execution_count": 7,
   "metadata": {},
   "outputs": [
    {
     "name": "stdout",
     "output_type": "stream",
     "text": [
      "edgetpu.dll\n",
      "Help on Delegate in module tflite_runtime.interpreter object:\n",
      "\n",
      "class Delegate(builtins.object)\n",
      " |  Delegate(library, options=None)\n",
      " |  \n",
      " |  Python wrapper class to manage TfLiteDelegate objects.\n",
      " |  \n",
      " |  The shared library is expected to have two functions:\n",
      " |    TfLiteDelegate* tflite_plugin_create_delegate(\n",
      " |        char**, char**, size_t, void (*report_error)(const char *))\n",
      " |    void tflite_plugin_destroy_delegate(TfLiteDelegate*)\n",
      " |  \n",
      " |  The first one creates a delegate object. It may return NULL to indicate an\n",
      " |  error (with a suitable error message reported by calling report_error()).\n",
      " |  The second one destroys delegate object and must be called for every\n",
      " |  created delegate object. Passing NULL as argument value is allowed, i.e.\n",
      " |  \n",
      " |    tflite_plugin_destroy_delegate(tflite_plugin_create_delegate(...))\n",
      " |  \n",
      " |  always works.\n",
      " |  \n",
      " |  Methods defined here:\n",
      " |  \n",
      " |  __del__(self)\n",
      " |  \n",
      " |  __init__(self, library, options=None)\n",
      " |      Loads delegate from the shared library.\n",
      " |      \n",
      " |      Args:\n",
      " |        library: Shared library name.\n",
      " |        options: Dictionary of options that are required to load the delegate. All\n",
      " |          keys and values in the dictionary should be serializable. Consult the\n",
      " |          documentation of the specific delegate for required and legal options.\n",
      " |          (default None)\n",
      " |      \n",
      " |      Raises:\n",
      " |        RuntimeError: This is raised if the Python implementation is not CPython.\n",
      " |  \n",
      " |  ----------------------------------------------------------------------\n",
      " |  Data descriptors defined here:\n",
      " |  \n",
      " |  __dict__\n",
      " |      dictionary for instance variables (if defined)\n",
      " |  \n",
      " |  __weakref__\n",
      " |      list of weak references to the object (if defined)\n",
      "\n",
      "None\n"
     ]
    }
   ],
   "source": [
    "from pycoral.adapters import classify, common\n",
    "from pycoral.utils.edgetpu import make_interpreter\n",
    "import platform\n",
    "import tflite_runtime.interpreter as tflite\n",
    "\n",
    "_EDGETPU_SHARED_LIB = {\n",
    "  'Linux': 'libedgetpu.so.1',\n",
    "  'Darwin': 'libedgetpu.1.dylib',\n",
    "  'Windows': 'edgetpu.dll'\n",
    "}[platform.system()]\n",
    "\n",
    "print(_EDGETPU_SHARED_LIB)\n",
    "\n",
    "interp = tflite.load_delegate(_EDGETPU_SHARED_LIB)\n",
    "\n",
    "print(help(interp))"
   ]
  },
  {
   "cell_type": "code",
   "execution_count": 7,
   "metadata": {},
   "outputs": [
    {
     "name": "stderr",
     "output_type": "stream",
     "text": [
      "c:\\py_repos\\image_classifier\\venv\\lib\\site-packages\\sklearn\\utils\\validation.py:1183: DataConversionWarning: A column-vector y was passed when a 1d array was expected. Please change the shape of y to (n_samples, ), for example using ravel().\n",
      "  y = column_or_1d(y, warn=True)\n",
      "c:\\py_repos\\image_classifier\\venv\\lib\\site-packages\\sklearn\\utils\\validation.py:1183: DataConversionWarning: A column-vector y was passed when a 1d array was expected. Please change the shape of y to (n_samples, ), for example using ravel().\n",
      "  y = column_or_1d(y, warn=True)\n",
      "c:\\py_repos\\image_classifier\\venv\\lib\\site-packages\\sklearn\\utils\\validation.py:1183: DataConversionWarning: A column-vector y was passed when a 1d array was expected. Please change the shape of y to (n_samples, ), for example using ravel().\n",
      "  y = column_or_1d(y, warn=True)\n",
      "c:\\py_repos\\image_classifier\\venv\\lib\\site-packages\\sklearn\\utils\\validation.py:1183: DataConversionWarning: A column-vector y was passed when a 1d array was expected. Please change the shape of y to (n_samples, ), for example using ravel().\n",
      "  y = column_or_1d(y, warn=True)\n"
     ]
    },
    {
     "name": "stdout",
     "output_type": "stream",
     "text": [
      "[0.95035 0.96035 0.9604 ]\n"
     ]
    }
   ],
   "source": [
    "from sklearn.datasets import fetch_openml\n",
    "from sklearn.linear_model import SGDClassifier\n",
    "from sklearn.model_selection import cross_val_score\n",
    "import pandas as pd\n",
    "import os\n",
    "\n",
    "\n",
    "def get_mnist784_dataset():\n",
    "    data_dir = os.path.join(os.getcwd(), \"datasets\")\n",
    "    if not os.path.exists(data_dir):\n",
    "        os.mkdir(data_dir)\n",
    "    mnist_dir =  os.path.join(os.getcwd(), \"datasets\", \"mnist_784\")\n",
    "    if not os.path.exists(mnist_dir):\n",
    "        os.mkdir(mnist_dir)\n",
    "\n",
    "    mnist = fetch_openml('mnist_784', as_frame=False)\n",
    "    data_df = pd.DataFrame(mnist.data, columns=mnist.feature_names)\n",
    "    target_df = pd.DataFrame(mnist.target, columns=mnist.target_names)\n",
    "    data_path = os.path.join(os.getcwd(), \"datasets\", \"mnist_784\", \"mnist_784_data.csv\")\n",
    "    target_path = os.path.join(os.getcwd(), \"datasets\", \"mnist_784\", \"mnist_784_target.csv\")\n",
    "    data_df.to_csv(data_path)\n",
    "    target_df.to_csv(target_path)\n",
    "    X, y = mnist.data, mnist.target\n",
    "    return X, y\n",
    "\n",
    "def mnist784_df_from_csv():\n",
    "    data_path = os.path.join(os.getcwd(), \"datasets\", \"mnist_784\", \"mnist_784_data.csv\")\n",
    "    target_path = os.path.join(os.getcwd(), \"datasets\", \"mnist_784\", \"mnist_784_target.csv\")\n",
    "    data_df = pd.read_csv(data_path)\n",
    "    target_df = pd.read_csv(target_path)\n",
    "    X_df, y_df = data_df, target_df\n",
    "    X_df.drop(columns=\"Unnamed: 0\", inplace=True)\n",
    "    y_df.drop(columns=\"Unnamed: 0\", inplace=True)\n",
    "    return X_df, y_df\n",
    "\n",
    "def train_predict_mnist784():\n",
    "    X_df, y_df = mnist784_df_from_csv()\n",
    "    X = X_df.values\n",
    "    y = y_df.values\n",
    "    some_digit = X[0]\n",
    "    X_train, X_test, y_train, y_test = X[:60000], X[60000:], y[:60000], y[60000:]\n",
    "    y_train_5 = (y_train == 5)\n",
    "    y_test_5 = (y_test == 5)\n",
    "    sgd_clf = SGDClassifier(random_state=42)\n",
    "    sgd_clf.fit(X_train, y_train_5)\n",
    "    sgd_clf.predict([some_digit])\n",
    "    scores = cross_val_score(sgd_clf, X_train, y_train_5, cv=3, scoring=\"accuracy\")\n",
    "    return scores\n",
    "\n",
    "res = train_predict_mnist784()\n",
    "print(res)"
   ]
  }
 ],
 "metadata": {
  "kernelspec": {
   "display_name": "venv",
   "language": "python",
   "name": "python3"
  },
  "language_info": {
   "codemirror_mode": {
    "name": "ipython",
    "version": 3
   },
   "file_extension": ".py",
   "mimetype": "text/x-python",
   "name": "python",
   "nbconvert_exporter": "python",
   "pygments_lexer": "ipython3",
   "version": "3.8.3"
  }
 },
 "nbformat": 4,
 "nbformat_minor": 2
}
