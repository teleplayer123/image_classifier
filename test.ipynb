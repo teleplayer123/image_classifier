{
 "cells": [
  {
   "cell_type": "code",
   "execution_count": 7,
   "metadata": {},
   "outputs": [
    {
     "name": "stdout",
     "output_type": "stream",
     "text": [
      "edgetpu.dll\n",
      "Help on Delegate in module tflite_runtime.interpreter object:\n",
      "\n",
      "class Delegate(builtins.object)\n",
      " |  Delegate(library, options=None)\n",
      " |  \n",
      " |  Python wrapper class to manage TfLiteDelegate objects.\n",
      " |  \n",
      " |  The shared library is expected to have two functions:\n",
      " |    TfLiteDelegate* tflite_plugin_create_delegate(\n",
      " |        char**, char**, size_t, void (*report_error)(const char *))\n",
      " |    void tflite_plugin_destroy_delegate(TfLiteDelegate*)\n",
      " |  \n",
      " |  The first one creates a delegate object. It may return NULL to indicate an\n",
      " |  error (with a suitable error message reported by calling report_error()).\n",
      " |  The second one destroys delegate object and must be called for every\n",
      " |  created delegate object. Passing NULL as argument value is allowed, i.e.\n",
      " |  \n",
      " |    tflite_plugin_destroy_delegate(tflite_plugin_create_delegate(...))\n",
      " |  \n",
      " |  always works.\n",
      " |  \n",
      " |  Methods defined here:\n",
      " |  \n",
      " |  __del__(self)\n",
      " |  \n",
      " |  __init__(self, library, options=None)\n",
      " |      Loads delegate from the shared library.\n",
      " |      \n",
      " |      Args:\n",
      " |        library: Shared library name.\n",
      " |        options: Dictionary of options that are required to load the delegate. All\n",
      " |          keys and values in the dictionary should be serializable. Consult the\n",
      " |          documentation of the specific delegate for required and legal options.\n",
      " |          (default None)\n",
      " |      \n",
      " |      Raises:\n",
      " |        RuntimeError: This is raised if the Python implementation is not CPython.\n",
      " |  \n",
      " |  ----------------------------------------------------------------------\n",
      " |  Data descriptors defined here:\n",
      " |  \n",
      " |  __dict__\n",
      " |      dictionary for instance variables (if defined)\n",
      " |  \n",
      " |  __weakref__\n",
      " |      list of weak references to the object (if defined)\n",
      "\n",
      "None\n"
     ]
    }
   ],
   "source": [
    "from pycoral.adapters import classify, common\n",
    "from pycoral.utils.edgetpu import make_interpreter\n",
    "import platform\n",
    "import tflite_runtime.interpreter as tflite\n",
    "\n",
    "_EDGETPU_SHARED_LIB = {\n",
    "  'Linux': 'libedgetpu.so.1',\n",
    "  'Darwin': 'libedgetpu.1.dylib',\n",
    "  'Windows': 'edgetpu.dll'\n",
    "}[platform.system()]\n",
    "\n",
    "print(_EDGETPU_SHARED_LIB)\n",
    "\n",
    "interp = tflite.load_delegate(_EDGETPU_SHARED_LIB)\n",
    "\n",
    "print(help(interp))"
   ]
  }
 ],
 "metadata": {
  "kernelspec": {
   "display_name": "venv",
   "language": "python",
   "name": "python3"
  },
  "language_info": {
   "codemirror_mode": {
    "name": "ipython",
    "version": 3
   },
   "file_extension": ".py",
   "mimetype": "text/x-python",
   "name": "python",
   "nbconvert_exporter": "python",
   "pygments_lexer": "ipython3",
   "version": "3.8.3"
  }
 },
 "nbformat": 4,
 "nbformat_minor": 2
}
