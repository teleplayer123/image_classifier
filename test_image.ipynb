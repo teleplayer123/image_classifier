{
 "cells": [
  {
   "cell_type": "code",
   "execution_count": 1,
   "metadata": {},
   "outputs": [
    {
     "name": "stdout",
     "output_type": "stream",
     "text": [
      "c:\\py_repos\\image_classifier\\datasets\\newer_images\n"
     ]
    }
   ],
   "source": [
    "import cv2\n",
    "import os\n",
    "import time\n",
    "import matplotlib.pyplot as plt\n",
    "import pandas as pd\n",
    "from sklearn.linear_model import SGDClassifier\n",
    "from sklearn.model_selection import cross_val_score\n",
    "import numpy as np\n",
    "\n",
    "\n",
    "def plot_digit_arr(img_data):\n",
    "    shape = img_data.shape[0]\n",
    "    size = int(shape**0.5)\n",
    "    img = img_data.reshape(size, size)\n",
    "    plt.imshow(img, cmap=\"binary\")\n",
    "    plt.axis(\"off\")\n",
    "\n",
    "def split_image_digits(path):\n",
    "    img = cv2.imread(path)\n",
    "    img1 = img[0:44, 0:92]\n",
    "    img2 = img[0:44, 92:184]\n",
    "    img3 = img[0:44, 184:276]\n",
    "    # img1 = img1.reshape(-1, 4048).astype(np.int8)\n",
    "    # img2 = img2.reshape(-1, 4048).astype(np.int8)\n",
    "    # img3 = img3.reshape(-1, 4048).astype(np.int8)\n",
    "    return img1, img2, img3\n",
    "\n",
    "def crop_images(paths):\n",
    "    i = 0\n",
    "    img_dir = os.path.join(os.getcwd(), \"datasets\", \"images\")\n",
    "    if not os.path.exists(img_dir):\n",
    "        os.mkdir(img_dir)\n",
    "    for path in paths:\n",
    "        i += 1\n",
    "        new_img_path = os.path.join(img_dir, \"img{}.png\".format(i))\n",
    "        img_data = cv2.imread(path, cv2.IMREAD_GRAYSCALE)\n",
    "        img = img_data[0:45, 0:278]\n",
    "        cv2.imwrite(new_img_path, img)\n",
    "\n",
    "def create_image_data(img_dirname, outdirname=\"newer_images\"):\n",
    "    images_dir = os.path.join(os.getcwd(), \"datasets\", img_dirname)\n",
    "    outdir = os.path.join(os.getcwd(), \"datasets\", outdirname)\n",
    "    if not os.path.exists(outdir):\n",
    "        os.mkdir(outdir)\n",
    "    paths = [[os.path.join(dn, fn) for fn in files] for dn, _ , files in os.walk(images_dir)]\n",
    "    paths = sum(paths, [])\n",
    "    crop_images(paths)\n",
    "    i = 0\n",
    "    for path in paths:\n",
    "        img1, img2, img3 = split_image_digits(path)\n",
    "        path1 = os.path.join(outdir, \"image{}.png\".format(i+1))\n",
    "        path2 = os.path.join(outdir, \"image{}.png\".format(i+2))\n",
    "        path3 = os.path.join(outdir, \"image{}.png\".format(i+3))\n",
    "        cv2.imwrite(path1, img1)\n",
    "        cv2.imwrite(path2, img2)\n",
    "        cv2.imwrite(path3, img3)\n",
    "        i += 3\n",
    "    return outdir\n",
    "\n",
    "img1_path = os.path.join(os.getcwd(), \"datasets\", \"images\", \"img1.png\")\n",
    "\n",
    "new_path = create_image_data(\"images\")\n",
    "print(new_path)"
   ]
  },
  {
   "cell_type": "code",
   "execution_count": 6,
   "metadata": {},
   "outputs": [
    {
     "name": "stdout",
     "output_type": "stream",
     "text": [
      "(44, 92)\n",
      "(198, 44, 92)\n"
     ]
    }
   ],
   "source": [
    "import os\n",
    "import pandas as pd\n",
    "import numpy as np\n",
    "import cv2\n",
    "\n",
    "\n",
    "def normalize_img(img):\n",
    "    img = img * 1.0/255\n",
    "    return img\n",
    "\n",
    "def imgs_to_dict(dirname):\n",
    "    img_dict = {}\n",
    "    image_dir = os.path.join(os.getcwd(), \"datasets\", dirname)\n",
    "    i = 0\n",
    "    for fname in os.listdir(image_dir):\n",
    "        img_path = os.path.join(image_dir, fname)\n",
    "        img = cv2.imread(img_path, cv2.IMREAD_GRAYSCALE)\n",
    "        img_dict[\"image{}\".format(i+1)] = img\n",
    "        i += 1\n",
    "    return img_dict\n",
    "\n",
    "def images_to_arr(obj):\n",
    "    imgs = []\n",
    "    if isinstance(obj, dict):\n",
    "        imgs = [normalize_img(img) for img in obj.values()]\n",
    "    elif isinstance(obj, str):\n",
    "        dir_path = None \n",
    "        if os.path.isdir(imgs):\n",
    "            dir_path = imgs\n",
    "        else:\n",
    "            dir_path = os.path.join(os.getcwd(), obj)\n",
    "        for fname in os.listdir(dir_path):\n",
    "            img_path = os.path.join(dir_path, fname)\n",
    "            img = cv2.imread(img_path, cv2.IMREAD_GRAYSCALE)\n",
    "            img = normalize_img(img)\n",
    "            imgs.append(img)\n",
    "    else:\n",
    "        raise TypeError(f\"type {type(obj)} is not supported\")\n",
    "    return np.array(imgs)\n",
    "\n",
    "\n",
    "d = imgs_to_dict(\"newer_images\")\n",
    "print(d[\"image1\"].shape)\n",
    "\n",
    "a = images_to_arr(d)\n",
    "print(a.shape)\n"
   ]
  },
  {
   "cell_type": "code",
   "execution_count": 45,
   "metadata": {},
   "outputs": [
    {
     "name": "stdout",
     "output_type": "stream",
     "text": [
      "(44, 92)\n"
     ]
    },
    {
     "data": {
      "text/plain": [
       "<matplotlib.image.AxesImage at 0x1fa7d363640>"
      ]
     },
     "execution_count": 45,
     "metadata": {},
     "output_type": "execute_result"
    },
    {
     "data": {
      "image/png": "[encoded data removed]",
      "text/plain": [
       "<Figure size 640x480 with 1 Axes>"
      ]
     },
     "metadata": {},
     "output_type": "display_data"
    }
   ],
   "source": [
    "import os\n",
    "import pandas as pd\n",
    "import numpy as np\n",
    "import cv2\n",
    "import matplotlib.pyplot as plt\n",
    "\n",
    "\n",
    "image_dir = os.path.join(os.getcwd(), \"datasets\", \"newer_images\")\n",
    "img1_path = os.path.join(image_dir, \"image40.png\")\n",
    "img1 = cv2.imread(img1_path)\n",
    "img1 = cv2.cvtColor(img1,cv2.COLOR_BGR2GRAY)\n",
    "\n",
    "print(img1.shape)\n",
    "\n",
    "plt.imshow(img1, cmap=\"binary\")"
   ]
  },
  {
   "cell_type": "code",
   "execution_count": 50,
   "metadata": {},
   "outputs": [],
   "source": [
    "import os\n",
    "\n",
    "\n",
    "orig_targets = [\"89\", \"121\", \"28\", \"85\", \"120\", \"30\", \"81\", \"120\", \"45\", \"90\", \"121\", \"34\", \"85\", \"122\", \"31\", \"78\", \"120\", \"31\", \"77\", \"113\", \"27\", \"62\", \"120\", \"32\", \"62\", \"120\", \"32\", \"62\", \"120\", \"32\", \"90\", \"120\", \"28\", \"90\", \"121\", \"34\", \"60\", \"120\", \"29\", \"76\"]\n",
    "targets = [int(i) for i in orig_targets]\n",
    "name = \"image{}\"\n",
    "image_idxs = []\n",
    "\n",
    "for i in range(len(targets)):\n",
    "    image_idxs.append(name.format(i+1))\n",
    "\n",
    "fname = os.path.join(os.getcwd(), \"datasets\", \"newer_images\", \"labels.txt\")\n",
    "with open(fname, \"w\") as fh:\n",
    "    for k, v in zip(image_idxs, targets):\n",
    "        fh.write(f\"{k}:{v}\\n\")\n",
    "\n",
    "\n",
    "\n"
   ]
  },
  {
   "cell_type": "code",
   "execution_count": null,
   "metadata": {},
   "outputs": [],
   "source": [
    "from tensorflow import keras\n",
    "import tensorflow as tf\n",
    "\n",
    "\n",
    "model = keras.Sequential([\n",
    "    keras.layers.Flatten(input_shape=(44, 92)),\n",
    "    keras.layers.Dense(128, activation=tf.nn.relu),\n",
    "\n",
    "# Optional: You can replace the dense layer above with the convolution layers below to get higher accuracy.\n",
    "    # keras.layers.Reshape(target_shape=(28, 28, 1)),\n",
    "    # keras.layers.Conv2D(filters=32, kernel_size=(3, 3), activation=tf.nn.relu),\n",
    "    # keras.layers.Conv2D(filters=64, kernel_size=(3, 3), activation=tf.nn.relu),\n",
    "    # keras.layers.MaxPooling2D(pool_size=(2, 2)),\n",
    "    # keras.layers.Dropout(0.25),\n",
    "    # keras.layers.Flatten(input_shape=(28, 28)),\n",
    "    # keras.layers.Dense(128, activation=tf.nn.relu),\n",
    "    # keras.layers.Dropout(0.5),\n",
    "\n",
    "    keras.layers.Dense(10)\n",
    "])\n",
    "\n",
    "model.compile(optimizer='adam',\n",
    "              loss=tf.keras.losses.SparseCategoricalCrossentropy(from_logits=True),\n",
    "              metrics=['accuracy'])\n",
    "\n"
   ]
  },
  {
   "cell_type": "code",
   "execution_count": 18,
   "metadata": {},
   "outputs": [
    {
     "name": "stdout",
     "output_type": "stream",
     "text": [
      "(1000, 2000)\n",
      "(50, 100, 20, 20)\n",
      "\n",
      "\n",
      "(2500, 400)\n",
      "(2500, 400)\n"
     ]
    }
   ],
   "source": [
    "import numpy as np\n",
    "import cv2 as cv\n",
    "import os\n",
    " \n",
    "img_path = os.path.join(os.getcwd(), \"datasets\", \"digits\", \"digits.png\")\n",
    "img = cv.imread(img_path)\n",
    "gray = cv.cvtColor(img,cv.COLOR_BGR2GRAY)\n",
    "cells = [np.hsplit(row,100) for row in np.vsplit(gray,50)]\n",
    "x = np.array(cells)\n",
    "train = x[:,:50].reshape(-1,400).astype(np.float32) # Size = (2500,400)\n",
    "test = x[:,50:100].reshape(-1,400).astype(np.float32) # Size = (2500,400)\n",
    "print(gray.shape)\n",
    "print(x.shape)\n",
    "print(\"\\n\")\n",
    "print(train.shape)\n",
    "print(test.shape)"
   ]
  },
  {
   "cell_type": "code",
   "execution_count": null,
   "metadata": {},
   "outputs": [],
   "source": [
    "import numpy as np\n",
    "import cv2 as cv\n",
    "import os\n",
    " \n",
    "img_path = os.path.join(os.getcwd(), \"datasets\", \"digits\", \"digits.png\")\n",
    "img = cv.imread(img_path)\n",
    "gray = cv.cvtColor(img,cv.COLOR_BGR2GRAY)\n",
    " \n",
    "# Now we split the image to 5000 cells, each 20x20 size\n",
    "cells = [np.hsplit(row,100) for row in np.vsplit(gray,50)]\n",
    " \n",
    "# Make it into a Numpy array: its size will be (50,100,20,20)\n",
    "x = np.array(cells)\n",
    " \n",
    "# Now we prepare the training data and test data\n",
    "train = x[:,:50].reshape(-1,400).astype(np.float32) # Size = (2500,400)\n",
    "test = x[:,50:100].reshape(-1,400).astype(np.float32) # Size = (2500,400)\n",
    " \n",
    "# Create labels for train and test data\n",
    "k = np.arange(10)\n",
    "train_labels = np.repeat(k,250)[:,np.newaxis]\n",
    "test_labels = train_labels.copy()\n",
    " \n",
    "# Initiate kNN, train it on the training data, then test it with the test data with k=1\n",
    "knn = cv.ml.KNearest_create()\n",
    "knn.train(train, cv.ml.ROW_SAMPLE, train_labels)\n",
    "ret,result,neighbours,dist = knn.findNearest(test,k=5)\n",
    " \n",
    "# Now we check the accuracy of classification\n",
    "# For that, compare the result with test_labels and check which are wrong\n",
    "matches = result==test_labels\n",
    "correct = np.count_nonzero(matches)\n",
    "accuracy = correct*100.0/result.size\n",
    "print( accuracy )\n",
    "\n",
    "# Save the data\n",
    "np.savez('knn_data.npz',train=train, train_labels=train_labels)\n",
    " \n",
    "# Now load the data\n",
    "with np.load('knn_data.npz') as data:\n",
    "    print( data.files )\n",
    "    train = data['train']\n",
    "    train_labels = data['train_labels']"
   ]
  }
 ],
 "metadata": {
  "kernelspec": {
   "display_name": "venv",
   "language": "python",
   "name": "python3"
  },
  "language_info": {
   "codemirror_mode": {
    "name": "ipython",
    "version": 3
   },
   "file_extension": ".py",
   "mimetype": "text/x-python",
   "name": "python",
   "nbconvert_exporter": "python",
   "pygments_lexer": "ipython3",
   "version": "3.8.3"
  }
 },
 "nbformat": 4,
 "nbformat_minor": 2
}
